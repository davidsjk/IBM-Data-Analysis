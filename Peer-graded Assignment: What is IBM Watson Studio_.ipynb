{
    "nbformat_minor": 1, 
    "cells": [
        {
            "source": "# My Jupyter Notebook on IBM Data Science Experience", 
            "cell_type": "markdown", 
            "metadata": {
                "collapsed": true
            }
        }, 
        {
            "source": "**David**  \nProgram Officer", 
            "cell_type": "markdown", 
            "metadata": {}
        }, 
        {
            "source": "_I am interested in data science because I want to become a data scientist_", 
            "cell_type": "markdown", 
            "metadata": {}
        }, 
        {
            "source": "### The code below output the sum of x and y", 
            "cell_type": "markdown", 
            "metadata": {}
        }, 
        {
            "execution_count": 1, 
            "cell_type": "code", 
            "metadata": {}, 
            "outputs": [
                {
                    "execution_count": 1, 
                    "metadata": {}, 
                    "data": {
                        "text/plain": "9"
                    }, 
                    "output_type": "execute_result"
                }
            ], 
            "source": "x = 5\ny = 4\nx + y"
        }, 
        {
            "source": "## CELL 6\n---\n[I'm Link](https://en.wikipedia.org/wiki/Link_(The_Legend_of_Zelda))\n\n![alt text][shield]\n\n[shield]: https://static-ie.gamestop.ie/images/products/252639/3max.jpg \"Shield\"\n\nUsed ~~skills~~ skilz\n- Horizontal rule\n- link\n- image\n- strikethrough\n- bullet point", 
            "cell_type": "markdown", 
            "metadata": {}
        }
    ], 
    "metadata": {
        "kernelspec": {
            "display_name": "Python 3.5", 
            "name": "python3", 
            "language": "python"
        }, 
        "language_info": {
            "mimetype": "text/x-python", 
            "nbconvert_exporter": "python", 
            "version": "3.5.5", 
            "name": "python", 
            "file_extension": ".py", 
            "pygments_lexer": "ipython3", 
            "codemirror_mode": {
                "version": 3, 
                "name": "ipython"
            }
        }
    }, 
    "nbformat": 4
}